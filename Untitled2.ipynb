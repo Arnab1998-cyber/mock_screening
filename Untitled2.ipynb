{
 "cells": [
  {
   "cell_type": "code",
   "execution_count": 1,
   "id": "e85bf57e",
   "metadata": {},
   "outputs": [],
   "source": [
    "def edit_file(file, old, new):\n",
    "    with open (file , 'r') as w:\n",
    "        text = w.read()\n",
    "        \n",
    "    l = text.split(' ')\n",
    "    for i in range(len(l)):\n",
    "        if l[i] == old:\n",
    "            l[i] = new\n",
    "    s = ''\n",
    "    for j in l:\n",
    "        s = s+' '+j\n",
    "    s = s.lstrip()\n",
    "    with open(file,'w') as f:\n",
    "        f.write(s)"
   ]
  },
  {
   "cell_type": "code",
   "execution_count": 2,
   "id": "ce48149b",
   "metadata": {},
   "outputs": [],
   "source": [
    "with open('example.txt','w') as w:\n",
    "    w.write('This is a placement assignment')"
   ]
  },
  {
   "cell_type": "code",
   "execution_count": 3,
   "id": "382486bf",
   "metadata": {},
   "outputs": [],
   "source": [
    "edit_file('example.txt','placement','screening')"
   ]
  },
  {
   "cell_type": "markdown",
   "id": "de4332ae",
   "metadata": {},
   "source": [
    "## Abstraction"
   ]
  },
  {
   "cell_type": "code",
   "execution_count": 2,
   "id": "1baba548",
   "metadata": {},
   "outputs": [],
   "source": [
    "from abc import ABC, abstractmethod"
   ]
  },
  {
   "cell_type": "code",
   "execution_count": 10,
   "id": "7a4eef23",
   "metadata": {},
   "outputs": [],
   "source": [
    "class shape(ABC):\n",
    "    @abstractmethod\n",
    "    def area(self):\n",
    "        return 5\n",
    "class square(shape):\n",
    "    def __init__(self,s):\n",
    "        self.arm = s"
   ]
  },
  {
   "cell_type": "code",
   "execution_count": 11,
   "id": "0fd54f8d",
   "metadata": {},
   "outputs": [
    {
     "ename": "TypeError",
     "evalue": "Can't instantiate abstract class square with abstract method area",
     "output_type": "error",
     "traceback": [
      "\u001b[1;31m---------------------------------------------------------------------------\u001b[0m",
      "\u001b[1;31mTypeError\u001b[0m                                 Traceback (most recent call last)",
      "\u001b[1;32m~\\AppData\\Local\\Temp/ipykernel_6972/3475256786.py\u001b[0m in \u001b[0;36m<module>\u001b[1;34m\u001b[0m\n\u001b[1;32m----> 1\u001b[1;33m \u001b[0ms\u001b[0m \u001b[1;33m=\u001b[0m \u001b[0msquare\u001b[0m\u001b[1;33m(\u001b[0m\u001b[1;36m4\u001b[0m\u001b[1;33m)\u001b[0m\u001b[1;33m\u001b[0m\u001b[1;33m\u001b[0m\u001b[0m\n\u001b[0m\u001b[0;32m      2\u001b[0m \u001b[0ms\u001b[0m\u001b[1;33m.\u001b[0m\u001b[0marea\u001b[0m\u001b[1;33m(\u001b[0m\u001b[1;33m)\u001b[0m\u001b[1;33m\u001b[0m\u001b[1;33m\u001b[0m\u001b[0m\n",
      "\u001b[1;31mTypeError\u001b[0m: Can't instantiate abstract class square with abstract method area"
     ]
    }
   ],
   "source": [
    "s = square(4)\n",
    "s.area()"
   ]
  },
  {
   "cell_type": "code",
   "execution_count": 8,
   "id": "eb071d9e",
   "metadata": {},
   "outputs": [],
   "source": [
    "class shape1():\n",
    "    def area(self):\n",
    "        return 5\n",
    "class square1(shape1):\n",
    "    def __init__(self,s):\n",
    "        self.arm = s"
   ]
  },
  {
   "cell_type": "code",
   "execution_count": 9,
   "id": "12a6a1df",
   "metadata": {},
   "outputs": [
    {
     "data": {
      "text/plain": [
       "5"
      ]
     },
     "execution_count": 9,
     "metadata": {},
     "output_type": "execute_result"
    }
   ],
   "source": [
    "s = square1(5)\n",
    "s.area()"
   ]
  },
  {
   "cell_type": "markdown",
   "id": "3f24469a",
   "metadata": {},
   "source": [
    "### By using Abstract class we restrict the use of parent class"
   ]
  },
  {
   "cell_type": "markdown",
   "id": "a7c1c20b",
   "metadata": {},
   "source": [
    "## Multiple Inheritence"
   ]
  },
  {
   "cell_type": "code",
   "execution_count": 48,
   "id": "2907a32d",
   "metadata": {},
   "outputs": [],
   "source": [
    "class my_name:\n",
    "    def __init__(self, a,b):\n",
    "        self.a = a\n",
    "        self.b = b\n",
    "    def func_1(self):\n",
    "        return ('func1',self.a)\n",
    "    def func_2(self):\n",
    "        return ('func_2', self.b)\n",
    "    \n",
    "class my_class:\n",
    "    def __init__(self):\n",
    "        pass\n",
    "    def func_3(self):\n",
    "        return ('func_3')\n",
    "    def func_4(self):\n",
    "        return ('func_4')"
   ]
  },
  {
   "cell_type": "code",
   "execution_count": 53,
   "id": "6afaa10f",
   "metadata": {},
   "outputs": [],
   "source": [
    "class my_id(my_name,my_class):\n",
    "    def fun(self):\n",
    "        print(self.func_3(), self.func_4())"
   ]
  },
  {
   "cell_type": "code",
   "execution_count": 54,
   "id": "8e0abef2",
   "metadata": {},
   "outputs": [],
   "source": [
    "a = my_id(1,2)"
   ]
  },
  {
   "cell_type": "code",
   "execution_count": 55,
   "id": "d739e5a4",
   "metadata": {},
   "outputs": [
    {
     "data": {
      "text/plain": [
       "('func1', 1)"
      ]
     },
     "execution_count": 55,
     "metadata": {},
     "output_type": "execute_result"
    }
   ],
   "source": [
    "a.func_1()"
   ]
  },
  {
   "cell_type": "code",
   "execution_count": 56,
   "id": "25850b3b",
   "metadata": {},
   "outputs": [
    {
     "data": {
      "text/plain": [
       "('func_2', 2)"
      ]
     },
     "execution_count": 56,
     "metadata": {},
     "output_type": "execute_result"
    }
   ],
   "source": [
    "a.func_2()"
   ]
  },
  {
   "cell_type": "code",
   "execution_count": 57,
   "id": "031c4525",
   "metadata": {},
   "outputs": [
    {
     "name": "stdout",
     "output_type": "stream",
     "text": [
      "func_3 func_4\n"
     ]
    }
   ],
   "source": [
    "a.fun()"
   ]
  },
  {
   "cell_type": "markdown",
   "id": "ff455356",
   "metadata": {},
   "source": [
    "## Decorator"
   ]
  },
  {
   "cell_type": "code",
   "execution_count": 63,
   "id": "c5a2dfd2",
   "metadata": {},
   "outputs": [],
   "source": [
    "def func_1(a):\n",
    "    print('executing func_1')\n",
    "    print(a())\n",
    "    print('executed func_1')"
   ]
  },
  {
   "cell_type": "code",
   "execution_count": 65,
   "id": "11f61778",
   "metadata": {},
   "outputs": [
    {
     "name": "stdout",
     "output_type": "stream",
     "text": [
      "executing func_1\n",
      "func_2\n",
      "executed func_1\n"
     ]
    }
   ],
   "source": [
    "@func_1  # decorator\n",
    "def func_2():\n",
    "    return ('func_2')"
   ]
  },
  {
   "cell_type": "code",
   "execution_count": null,
   "id": "e0a4c361",
   "metadata": {},
   "outputs": [],
   "source": []
  }
 ],
 "metadata": {
  "kernelspec": {
   "display_name": "Python 3 (ipykernel)",
   "language": "python",
   "name": "python3"
  },
  "language_info": {
   "codemirror_mode": {
    "name": "ipython",
    "version": 3
   },
   "file_extension": ".py",
   "mimetype": "text/x-python",
   "name": "python",
   "nbconvert_exporter": "python",
   "pygments_lexer": "ipython3",
   "version": "3.9.7"
  }
 },
 "nbformat": 4,
 "nbformat_minor": 5
}
